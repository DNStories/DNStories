{
 "cells": [
  {
   "cell_type": "code",
   "id": "initial_id",
   "metadata": {
    "collapsed": true,
    "ExecuteTime": {
     "end_time": "2024-07-03T16:33:15.291171Z",
     "start_time": "2024-07-03T16:33:15.288957Z"
    }
   },
   "source": [
    "from datetime import datetime\n",
    "from ripe.atlas.cousteau import AtlasResultsRequest\n",
    "from ripe.atlas.sagan import DnsResult\n",
    "from dataclasses import dataclass, asdict, field, replace\n",
    "from typing import List, Tuple\n",
    "from tqdm.contrib.concurrent import thread_map\n",
    "import pandas as pd\n",
    "import itertools"
   ],
   "outputs": [],
   "execution_count": 145
  },
  {
   "metadata": {
    "ExecuteTime": {
     "end_time": "2024-07-02T15:26:26.325640Z",
     "start_time": "2024-07-02T15:26:26.321734Z"
    }
   },
   "cell_type": "code",
   "source": [
    "kwargs = {\n",
    "    \"msm_id\": 8310237,\n",
    "    \"start\": datetime(2024, 6, 1),\n",
    "    \"stop\": datetime(2024, 7, 1),\n",
    "}\n"
   ],
   "id": "119ad8aed14bd860",
   "outputs": [],
   "execution_count": 4
  },
  {
   "metadata": {
    "ExecuteTime": {
     "end_time": "2024-07-03T16:32:22.398027Z",
     "start_time": "2024-07-03T16:32:22.392860Z"
    }
   },
   "cell_type": "code",
   "source": [
    "@dataclass(frozen=False)\n",
    "class AtlasResults:\n",
    "    msm_id: int\n",
    "    probe_id: int\n",
    "    origin: str\n",
    "    ts: int\n",
    "    entry_idx: int\n",
    "    sub_id: int = 0\n",
    "    time: int = 0\n",
    "    src_addr: str = \"\"\n",
    "    dst_addr: str = \"\"\n",
    "    error: str = \"\"\n",
    "    proto: str = \"\"\n",
    "    af: int = 0\n",
    "    answers: List[dict] = field(default_factory=list)\n",
    "    rt: float = 0.0\n",
    "\n",
    "    dict = asdict"
   ],
   "id": "6f6c5939ee618090",
   "outputs": [],
   "execution_count": 141
  },
  {
   "metadata": {
    "ExecuteTime": {
     "end_time": "2024-07-03T16:01:10.337004Z",
     "start_time": "2024-07-03T16:01:10.334907Z"
    }
   },
   "cell_type": "code",
   "source": "",
   "id": "cb0181573dfbd4cf",
   "outputs": [],
   "execution_count": 94
  },
  {
   "metadata": {
    "ExecuteTime": {
     "end_time": "2024-07-03T16:33:50.757380Z",
     "start_time": "2024-07-03T16:33:50.752113Z"
    }
   },
   "cell_type": "code",
   "source": [
    "def result2dataclass(t: Tuple[int, dict]) -> dict:\n",
    "    i, r = t \n",
    "    o = AtlasResults(msm_id=r['msm_id'], probe_id=r['prb_id'], ts=r['timestamp'], origin=r['from'], entry_idx=i)\n",
    "    \n",
    "    if 'resultset' in r:\n",
    "        for rs in r['resultset']:\n",
    "            try:\n",
    "                o = replace(o, **{k: rs[k] for k in ['proto', 'time']})\n",
    "                o.dst_addr = rs.get('dst_name', rs.get('dst_addr', None))\n",
    "                o.src_addr = rs.get('src_addr', '')\n",
    "                o.error = rs.get('error', \"\")\n",
    "                o.af = rs.get('af', 0)\n",
    "                o.sub_id = rs.get('subid', 0)\n",
    "                \n",
    "                if 'result' in rs:\n",
    "                    # print(rs['result'])\n",
    "                    if 'answers' in rs['result']:\n",
    "                        # print(rs['result']['answers'])\n",
    "                        o.answers = rs['result']['answers']\n",
    "                    if 'rt' in rs['result']:\n",
    "                        o.rt = rs['result']['rt']\n",
    "            except KeyError as e:\n",
    "                print(f\"KeyError: {e} -- {rs}\")\n",
    "            \n",
    "            \n",
    "            yield o.dict()"
   ],
   "id": "e4e0149dafd19b30",
   "outputs": [],
   "execution_count": 146
  },
  {
   "metadata": {
    "ExecuteTime": {
     "end_time": "2024-07-02T15:52:28.952501Z",
     "start_time": "2024-07-02T15:26:27.260172Z"
    }
   },
   "cell_type": "code",
   "source": "is_success, results = AtlasResultsRequest(**kwargs).create()",
   "id": "92606f3c3f9aad77",
   "outputs": [],
   "execution_count": 5
  },
  {
   "metadata": {
    "ExecuteTime": {
     "end_time": "2024-07-02T16:19:30.013750Z",
     "start_time": "2024-07-02T16:19:30.009087Z"
    }
   },
   "cell_type": "code",
   "source": "is_success",
   "id": "bd38d5a518ce3000",
   "outputs": [
    {
     "data": {
      "text/plain": [
       "True"
      ]
     },
     "execution_count": 6,
     "metadata": {},
     "output_type": "execute_result"
    }
   ],
   "execution_count": 6
  },
  {
   "metadata": {
    "ExecuteTime": {
     "end_time": "2024-07-02T16:19:34.555085Z",
     "start_time": "2024-07-02T16:19:34.551491Z"
    }
   },
   "cell_type": "code",
   "source": "len(results)",
   "id": "56638a5f7821942c",
   "outputs": [
    {
     "data": {
      "text/plain": [
       "8759198"
      ]
     },
     "execution_count": 7,
     "metadata": {},
     "output_type": "execute_result"
    }
   ],
   "execution_count": 7
  },
  {
   "metadata": {
    "ExecuteTime": {
     "end_time": "2024-07-03T16:34:03.136697Z",
     "start_time": "2024-07-03T16:34:03.131695Z"
    }
   },
   "cell_type": "code",
   "source": [
    "for idx, r in enumerate(results[:10]):\n",
    "    l = list(result2dataclass((idx, r)))\n",
    "    print(idx, l)\n"
   ],
   "id": "cc34ec6af5b87a32",
   "outputs": [
    {
     "name": "stdout",
     "output_type": "stream",
     "text": [
      "0 [{'msm_id': 8310237, 'probe_id': 1000095, 'origin': '31.187.64.140', 'ts': 1717200028, 'entry_idx': 0, 'sub_id': 1, 'time': 1717200028, 'src_addr': '31.187.64.140', 'dst_addr': '8.8.8.8', 'error': '', 'proto': 'UDP', 'af': 4, 'answers': [{'TYPE': 'TXT', 'NAME': 'o-o.myaddr.l.google.com', 'RDATA': ['173.194.169.104']}, {'TYPE': 'TXT', 'NAME': 'o-o.myaddr.l.google.com', 'RDATA': ['edns0-client-subnet 31.187.64.0/24']}], 'rt': 5.686}, {'msm_id': 8310237, 'probe_id': 1000095, 'origin': '31.187.64.140', 'ts': 1717200028, 'entry_idx': 0, 'sub_id': 2, 'time': 1717200029, 'src_addr': '31.187.64.140', 'dst_addr': '8.8.4.4', 'error': '', 'proto': 'UDP', 'af': 4, 'answers': [{'TYPE': 'TXT', 'NAME': 'o-o.myaddr.l.google.com', 'RDATA': ['173.194.169.104']}, {'TYPE': 'TXT', 'NAME': 'o-o.myaddr.l.google.com', 'RDATA': ['edns0-client-subnet 31.187.64.0/24']}], 'rt': 4.397}]\n",
      "1 [{'msm_id': 8310237, 'probe_id': 1000748, 'origin': '23.157.112.122', 'ts': 1717200024, 'entry_idx': 1, 'sub_id': 1, 'time': 1717200024, 'src_addr': '2605:c640:dc1:10c8::3', 'dst_addr': '2001:4860:4860::8844', 'error': '', 'proto': 'UDP', 'af': 6, 'answers': [{'TYPE': 'TXT', 'NAME': 'o-o.myaddr.l.google.com', 'RDATA': ['74.125.181.131']}, {'TYPE': 'TXT', 'NAME': 'o-o.myaddr.l.google.com', 'RDATA': ['edns0-client-subnet 2605:c640:dc1:1000::/56']}], 'rt': 19.133}]\n",
      "2 [{'msm_id': 8310237, 'probe_id': 1000967, 'origin': '24.213.13.3', 'ts': 1717200018, 'entry_idx': 2, 'sub_id': 1, 'time': 1717200018, 'src_addr': '127.0.0.1', 'dst_addr': '127.0.0.11', 'error': '', 'proto': 'UDP', 'af': 4, 'answers': [{'TYPE': 'TXT', 'NAME': 'o-o.myaddr.l.google.com', 'RDATA': ['24.213.13.3']}], 'rt': 109.688}]\n",
      "3 [{'msm_id': 8310237, 'probe_id': 1001259, 'origin': '95.95.207.179', 'ts': 1717200022, 'entry_idx': 3, 'sub_id': 1, 'time': 1717200022, 'src_addr': '127.0.0.1', 'dst_addr': '127.0.0.1', 'error': '', 'proto': 'UDP', 'af': 4, 'answers': [{'TYPE': 'TXT', 'NAME': 'o-o.myaddr.l.google.com', 'RDATA': ['2a01:f:1:1::3']}], 'rt': 17.857}, {'msm_id': 8310237, 'probe_id': 1001259, 'origin': '95.95.207.179', 'ts': 1717200022, 'entry_idx': 3, 'sub_id': 2, 'time': 1717200023, 'src_addr': '95.95.207.179', 'dst_addr': '212.113.177.241', 'error': '', 'proto': 'UDP', 'af': 4, 'answers': [{'TYPE': 'TXT', 'NAME': 'o-o.myaddr.l.google.com', 'RDATA': ['2a01:f:1:1::6']}], 'rt': 13.146}, {'msm_id': 8310237, 'probe_id': 1001259, 'origin': '95.95.207.179', 'ts': 1717200022, 'entry_idx': 3, 'sub_id': 3, 'time': 1717200024, 'src_addr': '95.95.207.179', 'dst_addr': '62.169.70.160', 'error': '', 'proto': 'UDP', 'af': 4, 'answers': [{'TYPE': 'TXT', 'NAME': 'o-o.myaddr.l.google.com', 'RDATA': ['62.169.70.193']}], 'rt': 51.889}]\n",
      "4 [{'msm_id': 8310237, 'probe_id': 1001842, 'origin': '79.168.59.119', 'ts': 1717200004, 'entry_idx': 4, 'sub_id': 1, 'time': 1717200004, 'src_addr': '127.0.0.1', 'dst_addr': '127.0.0.1', 'error': '', 'proto': 'UDP', 'af': 4, 'answers': [{'TYPE': 'TXT', 'NAME': 'o-o.myaddr.l.google.com', 'RDATA': ['2a01:f:1:1::4']}], 'rt': 13.165}, {'msm_id': 8310237, 'probe_id': 1001842, 'origin': '79.168.59.119', 'ts': 1717200004, 'entry_idx': 4, 'sub_id': 2, 'time': 1717200005, 'src_addr': '79.168.59.119', 'dst_addr': '212.113.177.241', 'error': '', 'proto': 'UDP', 'af': 4, 'answers': [{'TYPE': 'TXT', 'NAME': 'o-o.myaddr.l.google.com', 'RDATA': ['2a01:f:1:1::1']}], 'rt': 12.035}, {'msm_id': 8310237, 'probe_id': 1001842, 'origin': '79.168.59.119', 'ts': 1717200004, 'entry_idx': 4, 'sub_id': 3, 'time': 1717200006, 'src_addr': '79.168.59.119', 'dst_addr': '62.169.70.160', 'error': '', 'proto': 'UDP', 'af': 4, 'answers': [{'TYPE': 'TXT', 'NAME': 'o-o.myaddr.l.google.com', 'RDATA': ['2a01:f:3000:1::1']}], 'rt': 21.712}]\n",
      "5 [{'msm_id': 8310237, 'probe_id': 1002002, 'origin': '79.224.210.100', 'ts': 1717200040, 'entry_idx': 5, 'sub_id': 1, 'time': 1717200040, 'src_addr': '127.0.0.1', 'dst_addr': '127.0.0.11', 'error': '', 'proto': 'UDP', 'af': 4, 'answers': [{'TYPE': 'TXT', 'NAME': 'o-o.myaddr.l.google.com', 'RDATA': ['2003:180:2:b000:53:0:5:1']}], 'rt': 58.279}]\n",
      "6 [{'msm_id': 8310237, 'probe_id': 1002142, 'origin': '45.128.160.102', 'ts': 1717200005, 'entry_idx': 6, 'sub_id': 1, 'time': 1717200005, 'src_addr': '127.0.0.1', 'dst_addr': '127.0.0.1', 'error': '', 'proto': 'UDP', 'af': 4, 'answers': [{'TYPE': 'TXT', 'NAME': 'o-o.myaddr.l.google.com', 'RDATA': ['172.217.45.196']}, {'TYPE': 'TXT', 'NAME': 'o-o.myaddr.l.google.com', 'RDATA': ['edns0-client-subnet 2a02:4780:9:c000::/56']}], 'rt': 44.013}, {'msm_id': 8310237, 'probe_id': 1002142, 'origin': '45.128.160.102', 'ts': 1717200005, 'entry_idx': 6, 'sub_id': 2, 'time': 1717200007, 'src_addr': '45.128.160.102', 'dst_addr': '45.128.161.1', 'error': '', 'proto': 'UDP', 'af': 4, 'answers': [{'TYPE': 'TXT', 'NAME': 'o-o.myaddr.l.google.com', 'RDATA': ['edns0-client-subnet 46.17.174.0/24']}, {'TYPE': 'TXT', 'NAME': 'o-o.myaddr.l.google.com', 'RDATA': ['172.253.1.197']}], 'rt': 31.234}, {'msm_id': 8310237, 'probe_id': 1002142, 'origin': '45.128.160.102', 'ts': 1717200005, 'entry_idx': 6, 'sub_id': 3, 'time': 1717200008, 'src_addr': '45.128.160.102', 'dst_addr': '145.14.150.1', 'error': '', 'proto': 'UDP', 'af': 4, 'answers': [{'TYPE': 'TXT', 'NAME': 'o-o.myaddr.l.google.com', 'RDATA': ['2400:cb00:522:1024::ac47:65f4']}], 'rt': 26.62}]\n",
      "7 [{'msm_id': 8310237, 'probe_id': 1002157, 'origin': '153.92.14.66', 'ts': 1717200005, 'entry_idx': 7, 'sub_id': 1, 'time': 1717200005, 'src_addr': '127.0.0.1', 'dst_addr': '127.0.0.1', 'error': '', 'proto': 'UDP', 'af': 4, 'answers': [{'TYPE': 'TXT', 'NAME': 'o-o.myaddr.l.google.com', 'RDATA': ['172.70.145.85']}], 'rt': 20.19}, {'msm_id': 8310237, 'probe_id': 1002157, 'origin': '153.92.14.66', 'ts': 1717200005, 'entry_idx': 7, 'sub_id': 2, 'time': 1717200006, 'src_addr': '153.92.14.66', 'dst_addr': '153.92.14.1', 'error': '', 'proto': 'UDP', 'af': 4, 'answers': [{'TYPE': 'TXT', 'NAME': 'o-o.myaddr.l.google.com', 'RDATA': ['172.217.32.142']}, {'TYPE': 'TXT', 'NAME': 'o-o.myaddr.l.google.com', 'RDATA': ['edns0-client-subnet 153.92.14.0/24']}], 'rt': 18.464}, {'msm_id': 8310237, 'probe_id': 1002157, 'origin': '153.92.14.66', 'ts': 1717200005, 'entry_idx': 7, 'sub_id': 3, 'time': 1717200007, 'src_addr': '153.92.14.66', 'dst_addr': '217.21.75.1', 'error': '', 'proto': 'UDP', 'af': 4, 'answers': [{'TYPE': 'TXT', 'NAME': 'o-o.myaddr.l.google.com', 'RDATA': ['202.152.9.34']}], 'rt': 19.585}]\n",
      "8 [{'msm_id': 8310237, 'probe_id': 1002798, 'origin': '152.89.76.54', 'ts': 1717200051, 'entry_idx': 8, 'sub_id': 1, 'time': 1717200051, 'src_addr': '152.89.76.54', 'dst_addr': '8.8.8.8', 'error': '', 'proto': 'UDP', 'af': 4, 'answers': [{'TYPE': 'TXT', 'NAME': 'o-o.myaddr.l.google.com', 'RDATA': ['172.253.214.4']}, {'TYPE': 'TXT', 'NAME': 'o-o.myaddr.l.google.com', 'RDATA': ['edns0-client-subnet 152.89.76.0/24']}], 'rt': 9.677}, {'msm_id': 8310237, 'probe_id': 1002798, 'origin': '152.89.76.54', 'ts': 1717200051, 'entry_idx': 8, 'sub_id': 2, 'time': 1717200052, 'src_addr': '152.89.76.54', 'dst_addr': '1.1.1.1', 'error': '', 'proto': 'UDP', 'af': 4, 'answers': [{'TYPE': 'TXT', 'NAME': 'o-o.myaddr.l.google.com', 'RDATA': ['2400:cb00:388:1024::ac46:7193']}], 'rt': 3.369}]\n",
      "9 [{'msm_id': 8310237, 'probe_id': 1002954, 'origin': '95.161.217.69', 'ts': 1717200011, 'entry_idx': 9, 'sub_id': 1, 'time': 1717200011, 'src_addr': '10.140.47.35', 'dst_addr': '8.8.4.4', 'error': '', 'proto': 'UDP', 'af': 4, 'answers': [{'TYPE': 'TXT', 'NAME': 'o-o.myaddr.l.google.com', 'RDATA': ['74.125.114.140']}, {'TYPE': 'TXT', 'NAME': 'o-o.myaddr.l.google.com', 'RDATA': ['edns0-client-subnet 95.161.217.0/24']}], 'rt': 6.735}]\n"
     ]
    }
   ],
   "execution_count": 147
  },
  {
   "metadata": {
    "ExecuteTime": {
     "end_time": "2024-07-03T16:34:07.727987Z",
     "start_time": "2024-07-03T16:34:07.709183Z"
    }
   },
   "cell_type": "code",
   "source": "ar = [_ for _ in itertools.chain.from_iterable(thread_map(result2dataclass, enumerate(results[0:100]), max_workers=8))]",
   "id": "1e3bdb322ec6f1f7",
   "outputs": [
    {
     "data": {
      "text/plain": [
       "0it [00:00, ?it/s]"
      ],
      "application/vnd.jupyter.widget-view+json": {
       "version_major": 2,
       "version_minor": 0,
       "model_id": "73145f723ce44cbb835bad6244443133"
      }
     },
     "metadata": {},
     "output_type": "display_data"
    }
   ],
   "execution_count": 148
  },
  {
   "metadata": {
    "ExecuteTime": {
     "end_time": "2024-07-03T16:34:09.643583Z",
     "start_time": "2024-07-03T16:34:09.629006Z"
    }
   },
   "cell_type": "code",
   "source": "pd.DataFrame(ar)",
   "id": "1d6316c3bf69a7cc",
   "outputs": [
    {
     "data": {
      "text/plain": [
       "      msm_id  probe_id          origin          ts  entry_idx  sub_id  \\\n",
       "0    8310237   1000095   31.187.64.140  1717200028          0       1   \n",
       "1    8310237   1000095   31.187.64.140  1717200028          0       2   \n",
       "2    8310237   1000748  23.157.112.122  1717200024          1       1   \n",
       "3    8310237   1000967     24.213.13.3  1717200018          2       1   \n",
       "4    8310237   1001259   95.95.207.179  1717200022          3       1   \n",
       "..       ...       ...             ...         ...        ...     ...   \n",
       "179  8310237     27667    76.39.65.164  1717200006         97       1   \n",
       "180  8310237     27667    76.39.65.164  1717200006         97       2   \n",
       "181  8310237       285  83.191.164.214  1717200024         98       1   \n",
       "182  8310237      2874  76.136.206.217  1717200054         99       1   \n",
       "183  8310237      2874  76.136.206.217  1717200054         99       2   \n",
       "\n",
       "           time                                 src_addr  \\\n",
       "0    1717200028                            31.187.64.140   \n",
       "1    1717200029                            31.187.64.140   \n",
       "2    1717200024                    2605:c640:dc1:10c8::3   \n",
       "3    1717200018                                127.0.0.1   \n",
       "4    1717200022                                127.0.0.1   \n",
       "..          ...                                      ...   \n",
       "179  1717200006  2603:6000:81f0:a4d0:f6f2:6dff:fe5d:cc08   \n",
       "180  1717200007                            192.168.1.212   \n",
       "181  1717200024                           172.29.164.254   \n",
       "182  1717200054                               10.1.10.18   \n",
       "183  1717200055                               10.1.10.18   \n",
       "\n",
       "                   dst_addr error proto  af  \\\n",
       "0                   8.8.8.8         UDP   4   \n",
       "1                   8.8.4.4         UDP   4   \n",
       "2      2001:4860:4860::8844         UDP   6   \n",
       "3                127.0.0.11         UDP   4   \n",
       "4                 127.0.0.1         UDP   4   \n",
       "..                      ...   ...   ...  ..   \n",
       "179  2603:6000:81f0:a4d0::1         UDP   6   \n",
       "180             192.168.1.1         UDP   4   \n",
       "181            172.29.164.1         UDP   4   \n",
       "182             75.75.75.75         UDP   4   \n",
       "183             75.75.76.76         UDP   4   \n",
       "\n",
       "                                               answers       rt  \n",
       "0    [{'TYPE': 'TXT', 'NAME': 'o-o.myaddr.l.google....    5.686  \n",
       "1    [{'TYPE': 'TXT', 'NAME': 'o-o.myaddr.l.google....    4.397  \n",
       "2    [{'TYPE': 'TXT', 'NAME': 'o-o.myaddr.l.google....   19.133  \n",
       "3    [{'TYPE': 'TXT', 'NAME': 'o-o.myaddr.l.google....  109.688  \n",
       "4    [{'TYPE': 'TXT', 'NAME': 'o-o.myaddr.l.google....   17.857  \n",
       "..                                                 ...      ...  \n",
       "179  [{'TYPE': 'TXT', 'NAME': 'o-o.myaddr.l.google....   29.504  \n",
       "180  [{'TYPE': 'TXT', 'NAME': 'o-o.myaddr.l.google....   28.702  \n",
       "181  [{'TYPE': 'TXT', 'NAME': 'o-o.myaddr.l.google....   28.187  \n",
       "182  [{'TYPE': 'TXT', 'NAME': 'o-o.myaddr.l.google....   67.483  \n",
       "183  [{'TYPE': 'TXT', 'NAME': 'o-o.myaddr.l.google....   35.324  \n",
       "\n",
       "[184 rows x 14 columns]"
      ],
      "text/html": [
       "<div>\n",
       "<style scoped>\n",
       "    .dataframe tbody tr th:only-of-type {\n",
       "        vertical-align: middle;\n",
       "    }\n",
       "\n",
       "    .dataframe tbody tr th {\n",
       "        vertical-align: top;\n",
       "    }\n",
       "\n",
       "    .dataframe thead th {\n",
       "        text-align: right;\n",
       "    }\n",
       "</style>\n",
       "<table border=\"1\" class=\"dataframe\">\n",
       "  <thead>\n",
       "    <tr style=\"text-align: right;\">\n",
       "      <th></th>\n",
       "      <th>msm_id</th>\n",
       "      <th>probe_id</th>\n",
       "      <th>origin</th>\n",
       "      <th>ts</th>\n",
       "      <th>entry_idx</th>\n",
       "      <th>sub_id</th>\n",
       "      <th>time</th>\n",
       "      <th>src_addr</th>\n",
       "      <th>dst_addr</th>\n",
       "      <th>error</th>\n",
       "      <th>proto</th>\n",
       "      <th>af</th>\n",
       "      <th>answers</th>\n",
       "      <th>rt</th>\n",
       "    </tr>\n",
       "  </thead>\n",
       "  <tbody>\n",
       "    <tr>\n",
       "      <th>0</th>\n",
       "      <td>8310237</td>\n",
       "      <td>1000095</td>\n",
       "      <td>31.187.64.140</td>\n",
       "      <td>1717200028</td>\n",
       "      <td>0</td>\n",
       "      <td>1</td>\n",
       "      <td>1717200028</td>\n",
       "      <td>31.187.64.140</td>\n",
       "      <td>8.8.8.8</td>\n",
       "      <td></td>\n",
       "      <td>UDP</td>\n",
       "      <td>4</td>\n",
       "      <td>[{'TYPE': 'TXT', 'NAME': 'o-o.myaddr.l.google....</td>\n",
       "      <td>5.686</td>\n",
       "    </tr>\n",
       "    <tr>\n",
       "      <th>1</th>\n",
       "      <td>8310237</td>\n",
       "      <td>1000095</td>\n",
       "      <td>31.187.64.140</td>\n",
       "      <td>1717200028</td>\n",
       "      <td>0</td>\n",
       "      <td>2</td>\n",
       "      <td>1717200029</td>\n",
       "      <td>31.187.64.140</td>\n",
       "      <td>8.8.4.4</td>\n",
       "      <td></td>\n",
       "      <td>UDP</td>\n",
       "      <td>4</td>\n",
       "      <td>[{'TYPE': 'TXT', 'NAME': 'o-o.myaddr.l.google....</td>\n",
       "      <td>4.397</td>\n",
       "    </tr>\n",
       "    <tr>\n",
       "      <th>2</th>\n",
       "      <td>8310237</td>\n",
       "      <td>1000748</td>\n",
       "      <td>23.157.112.122</td>\n",
       "      <td>1717200024</td>\n",
       "      <td>1</td>\n",
       "      <td>1</td>\n",
       "      <td>1717200024</td>\n",
       "      <td>2605:c640:dc1:10c8::3</td>\n",
       "      <td>2001:4860:4860::8844</td>\n",
       "      <td></td>\n",
       "      <td>UDP</td>\n",
       "      <td>6</td>\n",
       "      <td>[{'TYPE': 'TXT', 'NAME': 'o-o.myaddr.l.google....</td>\n",
       "      <td>19.133</td>\n",
       "    </tr>\n",
       "    <tr>\n",
       "      <th>3</th>\n",
       "      <td>8310237</td>\n",
       "      <td>1000967</td>\n",
       "      <td>24.213.13.3</td>\n",
       "      <td>1717200018</td>\n",
       "      <td>2</td>\n",
       "      <td>1</td>\n",
       "      <td>1717200018</td>\n",
       "      <td>127.0.0.1</td>\n",
       "      <td>127.0.0.11</td>\n",
       "      <td></td>\n",
       "      <td>UDP</td>\n",
       "      <td>4</td>\n",
       "      <td>[{'TYPE': 'TXT', 'NAME': 'o-o.myaddr.l.google....</td>\n",
       "      <td>109.688</td>\n",
       "    </tr>\n",
       "    <tr>\n",
       "      <th>4</th>\n",
       "      <td>8310237</td>\n",
       "      <td>1001259</td>\n",
       "      <td>95.95.207.179</td>\n",
       "      <td>1717200022</td>\n",
       "      <td>3</td>\n",
       "      <td>1</td>\n",
       "      <td>1717200022</td>\n",
       "      <td>127.0.0.1</td>\n",
       "      <td>127.0.0.1</td>\n",
       "      <td></td>\n",
       "      <td>UDP</td>\n",
       "      <td>4</td>\n",
       "      <td>[{'TYPE': 'TXT', 'NAME': 'o-o.myaddr.l.google....</td>\n",
       "      <td>17.857</td>\n",
       "    </tr>\n",
       "    <tr>\n",
       "      <th>...</th>\n",
       "      <td>...</td>\n",
       "      <td>...</td>\n",
       "      <td>...</td>\n",
       "      <td>...</td>\n",
       "      <td>...</td>\n",
       "      <td>...</td>\n",
       "      <td>...</td>\n",
       "      <td>...</td>\n",
       "      <td>...</td>\n",
       "      <td>...</td>\n",
       "      <td>...</td>\n",
       "      <td>...</td>\n",
       "      <td>...</td>\n",
       "      <td>...</td>\n",
       "    </tr>\n",
       "    <tr>\n",
       "      <th>179</th>\n",
       "      <td>8310237</td>\n",
       "      <td>27667</td>\n",
       "      <td>76.39.65.164</td>\n",
       "      <td>1717200006</td>\n",
       "      <td>97</td>\n",
       "      <td>1</td>\n",
       "      <td>1717200006</td>\n",
       "      <td>2603:6000:81f0:a4d0:f6f2:6dff:fe5d:cc08</td>\n",
       "      <td>2603:6000:81f0:a4d0::1</td>\n",
       "      <td></td>\n",
       "      <td>UDP</td>\n",
       "      <td>6</td>\n",
       "      <td>[{'TYPE': 'TXT', 'NAME': 'o-o.myaddr.l.google....</td>\n",
       "      <td>29.504</td>\n",
       "    </tr>\n",
       "    <tr>\n",
       "      <th>180</th>\n",
       "      <td>8310237</td>\n",
       "      <td>27667</td>\n",
       "      <td>76.39.65.164</td>\n",
       "      <td>1717200006</td>\n",
       "      <td>97</td>\n",
       "      <td>2</td>\n",
       "      <td>1717200007</td>\n",
       "      <td>192.168.1.212</td>\n",
       "      <td>192.168.1.1</td>\n",
       "      <td></td>\n",
       "      <td>UDP</td>\n",
       "      <td>4</td>\n",
       "      <td>[{'TYPE': 'TXT', 'NAME': 'o-o.myaddr.l.google....</td>\n",
       "      <td>28.702</td>\n",
       "    </tr>\n",
       "    <tr>\n",
       "      <th>181</th>\n",
       "      <td>8310237</td>\n",
       "      <td>285</td>\n",
       "      <td>83.191.164.214</td>\n",
       "      <td>1717200024</td>\n",
       "      <td>98</td>\n",
       "      <td>1</td>\n",
       "      <td>1717200024</td>\n",
       "      <td>172.29.164.254</td>\n",
       "      <td>172.29.164.1</td>\n",
       "      <td></td>\n",
       "      <td>UDP</td>\n",
       "      <td>4</td>\n",
       "      <td>[{'TYPE': 'TXT', 'NAME': 'o-o.myaddr.l.google....</td>\n",
       "      <td>28.187</td>\n",
       "    </tr>\n",
       "    <tr>\n",
       "      <th>182</th>\n",
       "      <td>8310237</td>\n",
       "      <td>2874</td>\n",
       "      <td>76.136.206.217</td>\n",
       "      <td>1717200054</td>\n",
       "      <td>99</td>\n",
       "      <td>1</td>\n",
       "      <td>1717200054</td>\n",
       "      <td>10.1.10.18</td>\n",
       "      <td>75.75.75.75</td>\n",
       "      <td></td>\n",
       "      <td>UDP</td>\n",
       "      <td>4</td>\n",
       "      <td>[{'TYPE': 'TXT', 'NAME': 'o-o.myaddr.l.google....</td>\n",
       "      <td>67.483</td>\n",
       "    </tr>\n",
       "    <tr>\n",
       "      <th>183</th>\n",
       "      <td>8310237</td>\n",
       "      <td>2874</td>\n",
       "      <td>76.136.206.217</td>\n",
       "      <td>1717200054</td>\n",
       "      <td>99</td>\n",
       "      <td>2</td>\n",
       "      <td>1717200055</td>\n",
       "      <td>10.1.10.18</td>\n",
       "      <td>75.75.76.76</td>\n",
       "      <td></td>\n",
       "      <td>UDP</td>\n",
       "      <td>4</td>\n",
       "      <td>[{'TYPE': 'TXT', 'NAME': 'o-o.myaddr.l.google....</td>\n",
       "      <td>35.324</td>\n",
       "    </tr>\n",
       "  </tbody>\n",
       "</table>\n",
       "<p>184 rows × 14 columns</p>\n",
       "</div>"
      ]
     },
     "execution_count": 149,
     "metadata": {},
     "output_type": "execute_result"
    }
   ],
   "execution_count": 149
  },
  {
   "metadata": {
    "ExecuteTime": {
     "end_time": "2024-07-02T16:19:41.277482Z",
     "start_time": "2024-07-02T16:19:41.273613Z"
    }
   },
   "cell_type": "code",
   "source": "results[0]",
   "id": "6d182373bc7ad81",
   "outputs": [
    {
     "data": {
      "text/plain": [
       "{'fw': 5080,\n",
       " 'mver': '2.6.2',\n",
       " 'lts': 42098889,\n",
       " 'resultset': [{'time': 1717200028,\n",
       "   'lts': 42098889,\n",
       "   'subid': 1,\n",
       "   'submax': 2,\n",
       "   'dst_addr': '8.8.8.8',\n",
       "   'dst_port': '53',\n",
       "   'af': 4,\n",
       "   'src_addr': '31.187.64.140',\n",
       "   'proto': 'UDP',\n",
       "   'result': {'rt': 5.686,\n",
       "    'size': 116,\n",
       "    'abuf': 'uPOBgAABAAIAAAAAA28tbwZteWFkZHIBbAZnb29nbGUDY29tAAAQAAHADAAQAAEAAAA8ABAPMTczLjE5NC4xNjkuMTA0wAwAEAABAAAAPAAjImVkbnMwLWNsaWVudC1zdWJuZXQgMzEuMTg3LjY0LjAvMjQ=',\n",
       "    'ID': 47347,\n",
       "    'ANCOUNT': 2,\n",
       "    'QDCOUNT': 1,\n",
       "    'NSCOUNT': 0,\n",
       "    'ARCOUNT': 0,\n",
       "    'answers': [{'TYPE': 'TXT',\n",
       "      'NAME': 'o-o.myaddr.l.google.com',\n",
       "      'RDATA': ['173.194.169.104']},\n",
       "     {'TYPE': 'TXT',\n",
       "      'NAME': 'o-o.myaddr.l.google.com',\n",
       "      'RDATA': ['edns0-client-subnet 31.187.64.0/24']}]}},\n",
       "  {'time': 1717200029,\n",
       "   'lts': 42098890,\n",
       "   'subid': 2,\n",
       "   'submax': 2,\n",
       "   'dst_addr': '8.8.4.4',\n",
       "   'dst_port': '53',\n",
       "   'af': 4,\n",
       "   'src_addr': '31.187.64.140',\n",
       "   'proto': 'UDP',\n",
       "   'result': {'rt': 4.397,\n",
       "    'size': 116,\n",
       "    'abuf': 'H/aBgAABAAIAAAAAA28tbwZteWFkZHIBbAZnb29nbGUDY29tAAAQAAHADAAQAAEAAAA7ABAPMTczLjE5NC4xNjkuMTA0wAwAEAABAAAAOwAjImVkbnMwLWNsaWVudC1zdWJuZXQgMzEuMTg3LjY0LjAvMjQ=',\n",
       "    'ID': 8182,\n",
       "    'ANCOUNT': 2,\n",
       "    'QDCOUNT': 1,\n",
       "    'NSCOUNT': 0,\n",
       "    'ARCOUNT': 0,\n",
       "    'answers': [{'TYPE': 'TXT',\n",
       "      'NAME': 'o-o.myaddr.l.google.com',\n",
       "      'RDATA': ['173.194.169.104']},\n",
       "     {'TYPE': 'TXT',\n",
       "      'NAME': 'o-o.myaddr.l.google.com',\n",
       "      'RDATA': ['edns0-client-subnet 31.187.64.0/24']}]}}],\n",
       " 'msm_id': 8310237,\n",
       " 'prb_id': 1000095,\n",
       " 'timestamp': 1717200028,\n",
       " 'msm_name': 'Tdig',\n",
       " 'from': '31.187.64.140',\n",
       " 'type': 'dns',\n",
       " 'group_id': 8310237,\n",
       " 'stored_timestamp': 1717198407}"
      ]
     },
     "execution_count": 8,
     "metadata": {},
     "output_type": "execute_result"
    }
   ],
   "execution_count": 8
  },
  {
   "metadata": {
    "ExecuteTime": {
     "end_time": "2024-07-03T14:24:09.797276Z",
     "start_time": "2024-07-03T14:24:09.792718Z"
    }
   },
   "cell_type": "code",
   "source": "dir(DnsResult.get(results[0]))",
   "id": "481cc19e3d13478f",
   "outputs": [
    {
     "data": {
      "text/plain": [
       "['ACTION_FAIL',\n",
       " 'ACTION_IGNORE',\n",
       " 'ACTION_WARN',\n",
       " 'PROTOCOL_ICMP',\n",
       " 'PROTOCOL_MAP',\n",
       " 'PROTOCOL_TCP',\n",
       " 'PROTOCOL_UDP',\n",
       " '__class__',\n",
       " '__delattr__',\n",
       " '__dict__',\n",
       " '__dir__',\n",
       " '__doc__',\n",
       " '__eq__',\n",
       " '__format__',\n",
       " '__ge__',\n",
       " '__getattribute__',\n",
       " '__getitem__',\n",
       " '__getstate__',\n",
       " '__gt__',\n",
       " '__hash__',\n",
       " '__init__',\n",
       " '__init_subclass__',\n",
       " '__iter__',\n",
       " '__le__',\n",
       " '__len__',\n",
       " '__lt__',\n",
       " '__module__',\n",
       " '__ne__',\n",
       " '__new__',\n",
       " '__nonzero__',\n",
       " '__reduce__',\n",
       " '__reduce_ex__',\n",
       " '__repr__',\n",
       " '__setattr__',\n",
       " '__setitem__',\n",
       " '__sizeof__',\n",
       " '__str__',\n",
       " '__subclasshook__',\n",
       " '__weakref__',\n",
       " '_handle_error',\n",
       " '_handle_malformation',\n",
       " '_is_property_name',\n",
       " '_on_error',\n",
       " '_on_malformation',\n",
       " 'build_responses',\n",
       " 'bundle',\n",
       " 'calculate_median',\n",
       " 'clean_protocol',\n",
       " 'created',\n",
       " 'created_timestamp',\n",
       " 'ensure',\n",
       " 'error_message',\n",
       " 'firmware',\n",
       " 'get',\n",
       " 'group_id',\n",
       " 'is_error',\n",
       " 'is_malformed',\n",
       " 'keys',\n",
       " 'measurement_id',\n",
       " 'origin',\n",
       " 'probe_id',\n",
       " 'raw_data',\n",
       " 'responses',\n",
       " 'responses_total',\n",
       " 'seconds_since_sync',\n",
       " 'type']"
      ]
     },
     "execution_count": 28,
     "metadata": {},
     "output_type": "execute_result"
    }
   ],
   "execution_count": 28
  },
  {
   "metadata": {
    "ExecuteTime": {
     "end_time": "2024-07-03T14:24:24.136659Z",
     "start_time": "2024-07-03T14:24:24.132257Z"
    }
   },
   "cell_type": "code",
   "source": "dir(DnsResult.get(results[0]).responses[0])",
   "id": "e00836ed8a9373d4",
   "outputs": [
    {
     "data": {
      "text/plain": [
       "['ACTION_FAIL',\n",
       " 'ACTION_IGNORE',\n",
       " 'ACTION_WARN',\n",
       " 'PROTOCOL_ICMP',\n",
       " 'PROTOCOL_MAP',\n",
       " 'PROTOCOL_TCP',\n",
       " 'PROTOCOL_UDP',\n",
       " '__class__',\n",
       " '__delattr__',\n",
       " '__dict__',\n",
       " '__dir__',\n",
       " '__doc__',\n",
       " '__eq__',\n",
       " '__format__',\n",
       " '__ge__',\n",
       " '__getattribute__',\n",
       " '__getitem__',\n",
       " '__getstate__',\n",
       " '__gt__',\n",
       " '__hash__',\n",
       " '__init__',\n",
       " '__init_subclass__',\n",
       " '__iter__',\n",
       " '__le__',\n",
       " '__len__',\n",
       " '__lt__',\n",
       " '__module__',\n",
       " '__ne__',\n",
       " '__new__',\n",
       " '__nonzero__',\n",
       " '__reduce__',\n",
       " '__reduce_ex__',\n",
       " '__repr__',\n",
       " '__setattr__',\n",
       " '__setitem__',\n",
       " '__sizeof__',\n",
       " '__str__',\n",
       " '__subclasshook__',\n",
       " '__weakref__',\n",
       " '_abuf',\n",
       " '_get_buf',\n",
       " '_handle_error',\n",
       " '_handle_malformation',\n",
       " '_is_property_name',\n",
       " '_on_error',\n",
       " '_on_malformation',\n",
       " '_parse_buf',\n",
       " '_qbuf',\n",
       " 'abuf',\n",
       " 'af',\n",
       " 'clean_protocol',\n",
       " 'destination_address',\n",
       " 'ensure',\n",
       " 'error_message',\n",
       " 'is_error',\n",
       " 'is_malformed',\n",
       " 'keys',\n",
       " 'protocol',\n",
       " 'qbuf',\n",
       " 'raw_data',\n",
       " 'response_id',\n",
       " 'response_size',\n",
       " 'response_time',\n",
       " 'source_address']"
      ]
     },
     "execution_count": 29,
     "metadata": {},
     "output_type": "execute_result"
    }
   ],
   "execution_count": 29
  },
  {
   "metadata": {
    "ExecuteTime": {
     "end_time": "2024-07-03T14:43:56.123225Z",
     "start_time": "2024-07-03T14:43:56.119042Z"
    }
   },
   "cell_type": "code",
   "source": "DnsResult.get(results[0]).responses[0]",
   "id": "4d138bd4e7d1e931",
   "outputs": [
    {
     "data": {
      "text/plain": [
       "<ripe.atlas.sagan.dns.Response at 0x70eb247810>"
      ]
     },
     "execution_count": 44,
     "metadata": {},
     "output_type": "execute_result"
    }
   ],
   "execution_count": 44
  },
  {
   "metadata": {},
   "cell_type": "code",
   "outputs": [],
   "execution_count": null,
   "source": "",
   "id": "9199f0c329aa374a"
  }
 ],
 "metadata": {
  "kernelspec": {
   "display_name": "Python 3",
   "language": "python",
   "name": "python3"
  },
  "language_info": {
   "codemirror_mode": {
    "name": "ipython",
    "version": 2
   },
   "file_extension": ".py",
   "mimetype": "text/x-python",
   "name": "python",
   "nbconvert_exporter": "python",
   "pygments_lexer": "ipython2",
   "version": "2.7.6"
  }
 },
 "nbformat": 4,
 "nbformat_minor": 5
}
